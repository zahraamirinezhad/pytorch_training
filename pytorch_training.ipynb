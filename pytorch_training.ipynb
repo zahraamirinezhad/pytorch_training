{
  "nbformat": 4,
  "nbformat_minor": 0,
  "metadata": {
    "colab": {
      "provenance": [],
      "gpuType": "T4"
    },
    "kernelspec": {
      "name": "python3",
      "display_name": "Python 3"
    },
    "language_info": {
      "name": "python"
    },
    "accelerator": "GPU"
  },
  "cells": [
    {
      "cell_type": "code",
      "execution_count": 3,
      "metadata": {
        "id": "16QKE5QIfO61"
      },
      "outputs": [],
      "source": [
        "import torch\n",
        "from torch import nn\n",
        "from torch.utils.data import DataLoader\n",
        "from torchvision import datasets\n",
        "from torchvision.transforms import ToTensor"
      ]
    },
    {
      "cell_type": "code",
      "source": [
        "# Download training data from open datasets.\n",
        "training_data = datasets.FashionMNIST(\n",
        "    root=\"data\",\n",
        "    train=True,\n",
        "    download=True,\n",
        "    transform=ToTensor(),\n",
        ")\n",
        "\n",
        "# Download test data from open datasets.\n",
        "test_data = datasets.FashionMNIST(\n",
        "    root=\"data\",\n",
        "    train=False,\n",
        "    download=True,\n",
        "    transform=ToTensor(),\n",
        ")\n",
        "\n",
        "# root=\"data\"\t=> The directory where the dataset will be stored. If \"data\" doesn’t exist, it will be created.\n",
        "# train=True =>\tThis tells PyTorch to load the training set (60,000 images).\n",
        "# download=True =>\tIf the dataset is not already present, download it from the internet.\n",
        "# transform=ToTensor() =>\tApply a transformation that converts each image (PIL format) into a PyTorch tensor and normalizes pixel values to [0.0, 1.0]."
      ],
      "metadata": {
        "colab": {
          "base_uri": "https://localhost:8080/"
        },
        "id": "zgPV4pdpj72h",
        "outputId": "16f7c202-9dea-44fb-c33d-c23085240763"
      },
      "execution_count": 4,
      "outputs": [
        {
          "output_type": "stream",
          "name": "stderr",
          "text": [
            "100%|██████████| 26.4M/26.4M [00:02<00:00, 10.9MB/s]\n",
            "100%|██████████| 29.5k/29.5k [00:00<00:00, 169kB/s]\n",
            "100%|██████████| 4.42M/4.42M [00:01<00:00, 3.20MB/s]\n",
            "100%|██████████| 5.15k/5.15k [00:00<00:00, 12.0MB/s]\n"
          ]
        }
      ]
    },
    {
      "cell_type": "code",
      "source": [
        "batch_size = 64\n",
        "# This sets the number of samples per batch.\n",
        "\n",
        "# Create data loaders.\n",
        "train_dataloader = DataLoader(training_data, batch_size=batch_size)\n",
        "test_dataloader = DataLoader(test_data, batch_size=batch_size)\n",
        "# This wraps the training_data (which is a FashionMNIST dataset) in a DataLoader.\n",
        "# What DataLoader does:\n",
        "  # Batches the data into size batch_size\n",
        "  # Allows iterating over the dataset using a for loop\n",
        "  # Optionally shuffles or loads data in parallel (more on this later)\n",
        "\n",
        "for X, y in test_dataloader:\n",
        "    print(f\"Shape of X [N, C, H, W]: {X.shape}\")\n",
        "    print(f\"Shape of y: {y.shape} {y.dtype}\")\n",
        "    break\n",
        "\n",
        "# output [64, 1, 28, 28]: Each batch contains 64 grayscale images (1 channel, 28x28 pixels) and their 64 labels."
      ],
      "metadata": {
        "id": "HcuQto-uoeiC",
        "colab": {
          "base_uri": "https://localhost:8080/"
        },
        "outputId": "4760efea-f247-4930-b348-c223f66f5625"
      },
      "execution_count": 5,
      "outputs": [
        {
          "output_type": "stream",
          "name": "stdout",
          "text": [
            "Shape of X [N, C, H, W]: torch.Size([64, 1, 28, 28])\n",
            "Shape of y: torch.Size([64]) torch.int64\n"
          ]
        }
      ]
    },
    {
      "cell_type": "code",
      "source": [
        "device = torch.accelerator.current_accelerator().type if torch.accelerator.is_available() else \"cpu\"\n",
        "print(f\"Using {device} device\")\n",
        "# Checks if any hardware accelerator (GPU or Apple Silicon, etc.) is available.\n",
        "# If yes, it uses it (e.g., \"cuda\" for NVIDIA GPU, \"mps\" for Apple GPU).\n",
        "# If not, it defaults to \"cpu\".\n",
        "\n",
        "# Define model\n",
        "class NeuralNetwork(nn.Module):\n",
        "  # define a class that inherits from nn.Module, which is the base class for all PyTorch models.\n",
        "    def __init__(self):\n",
        "        super().__init__()\n",
        "        self.flatten = nn.Flatten()\n",
        "        # nn.Flatten() converts the 2D image (28×28) into a 1D vector (784 values).\n",
        "        # Shape change: [batch_size, 1, 28, 28] ⟶ [batch_size, 784]\n",
        "        self.linear_relu_stack = nn.Sequential(\n",
        "            nn.Linear(28*28, 512),\n",
        "            nn.ReLU(),\n",
        "            nn.Linear(512, 512),\n",
        "            nn.ReLU(),\n",
        "            nn.Linear(512, 10)\n",
        "        )\n",
        "\n",
        "    def forward(self, x):\n",
        "        x = self.flatten(x)\n",
        "        logits = self.linear_relu_stack(x)\n",
        "        return logits\n",
        "\n",
        "model = NeuralNetwork().to(device)\n",
        "print(model)"
      ],
      "metadata": {
        "colab": {
          "base_uri": "https://localhost:8080/"
        },
        "id": "8Ig4eLvDuvp2",
        "outputId": "e7bfcdcc-ce13-4d3d-d2e2-e7a7b9e2995f"
      },
      "execution_count": 6,
      "outputs": [
        {
          "output_type": "stream",
          "name": "stdout",
          "text": [
            "Using cuda device\n",
            "NeuralNetwork(\n",
            "  (flatten): Flatten(start_dim=1, end_dim=-1)\n",
            "  (linear_relu_stack): Sequential(\n",
            "    (0): Linear(in_features=784, out_features=512, bias=True)\n",
            "    (1): ReLU()\n",
            "    (2): Linear(in_features=512, out_features=512, bias=True)\n",
            "    (3): ReLU()\n",
            "    (4): Linear(in_features=512, out_features=10, bias=True)\n",
            "  )\n",
            ")\n"
          ]
        }
      ]
    },
    {
      "cell_type": "code",
      "source": [
        "loss_fn = nn.CrossEntropyLoss()\n",
        "# A loss function measures how far the model’s predictions are from the correct labels (truth). It guides the training process.\n",
        "optimizer = torch.optim.SGD(model.parameters(), lr=1e-3)\n",
        "# An optimizer updates the model’s weights based on the computed gradients during backpropagation."
      ],
      "metadata": {
        "id": "lAiiTb5Ey1uG"
      },
      "execution_count": 8,
      "outputs": []
    },
    {
      "cell_type": "code",
      "source": [],
      "metadata": {
        "id": "-Ak-xwm7BX7i"
      },
      "execution_count": null,
      "outputs": []
    }
  ]
}