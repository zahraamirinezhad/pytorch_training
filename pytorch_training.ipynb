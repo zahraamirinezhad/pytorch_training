{
  "nbformat": 4,
  "nbformat_minor": 0,
  "metadata": {
    "colab": {
      "provenance": [],
      "gpuType": "T4"
    },
    "kernelspec": {
      "name": "python3",
      "display_name": "Python 3"
    },
    "language_info": {
      "name": "python"
    },
    "accelerator": "GPU"
  },
  "cells": [
    {
      "cell_type": "code",
      "execution_count": 1,
      "metadata": {
        "id": "16QKE5QIfO61"
      },
      "outputs": [],
      "source": [
        "import torch\n",
        "from torch import nn\n",
        "from torch.utils.data import DataLoader\n",
        "from torchvision import datasets\n",
        "from torchvision.transforms import ToTensor"
      ]
    },
    {
      "cell_type": "markdown",
      "source": [
        "#Quickstart"
      ],
      "metadata": {
        "id": "eFMJY2i0CsHy"
      }
    },
    {
      "cell_type": "code",
      "source": [
        "# Download training data from open datasets.\n",
        "training_data = datasets.FashionMNIST(\n",
        "    root=\"data\",\n",
        "    train=True,\n",
        "    download=True,\n",
        "    transform=ToTensor(),\n",
        ")\n",
        "\n",
        "# Download test data from open datasets.\n",
        "test_data = datasets.FashionMNIST(\n",
        "    root=\"data\",\n",
        "    train=False,\n",
        "    download=True,\n",
        "    transform=ToTensor(),\n",
        ")\n",
        "\n",
        "# root=\"data\"\t=> The directory where the dataset will be stored. If \"data\" doesn’t exist, it will be created.\n",
        "# train=True =>\tThis tells PyTorch to load the training set (60,000 images).\n",
        "# download=True =>\tIf the dataset is not already present, download it from the internet.\n",
        "# transform=ToTensor() =>\tApply a transformation that converts each image (PIL format) into a PyTorch tensor and normalizes pixel values to [0.0, 1.0]."
      ],
      "metadata": {
        "colab": {
          "base_uri": "https://localhost:8080/"
        },
        "id": "zgPV4pdpj72h",
        "outputId": "c46b2615-a554-437b-d4f9-17d224d81d78"
      },
      "execution_count": 2,
      "outputs": [
        {
          "output_type": "stream",
          "name": "stderr",
          "text": [
            "100%|██████████| 26.4M/26.4M [00:02<00:00, 12.7MB/s]\n",
            "100%|██████████| 29.5k/29.5k [00:00<00:00, 203kB/s]\n",
            "100%|██████████| 4.42M/4.42M [00:01<00:00, 3.75MB/s]\n",
            "100%|██████████| 5.15k/5.15k [00:00<00:00, 23.4MB/s]\n"
          ]
        }
      ]
    },
    {
      "cell_type": "code",
      "source": [
        "batch_size = 64\n",
        "# This sets the number of samples per batch.\n",
        "\n",
        "# Create data loaders.\n",
        "train_dataloader = DataLoader(training_data, batch_size=batch_size)\n",
        "test_dataloader = DataLoader(test_data, batch_size=batch_size)\n",
        "# This wraps the training_data (which is a FashionMNIST dataset) in a DataLoader.\n",
        "# What DataLoader does:\n",
        "  # Batches the data into size batch_size\n",
        "  # Allows iterating over the dataset using a for loop\n",
        "  # Optionally shuffles or loads data in parallel (more on this later)\n",
        "\n",
        "for X, y in test_dataloader:\n",
        "    print(f\"Shape of X [N, C, H, W]: {X.shape}\")\n",
        "    print(f\"Shape of y: {y.shape} {y.dtype}\")\n",
        "    break\n",
        "\n",
        "# output [64, 1, 28, 28]: Each batch contains 64 grayscale images (1 channel, 28x28 pixels) and their 64 labels."
      ],
      "metadata": {
        "id": "HcuQto-uoeiC",
        "colab": {
          "base_uri": "https://localhost:8080/"
        },
        "outputId": "955e8962-5f0a-41e8-ceb5-80971fc444b0"
      },
      "execution_count": 4,
      "outputs": [
        {
          "output_type": "stream",
          "name": "stdout",
          "text": [
            "Shape of X [N, C, H, W]: torch.Size([64, 1, 28, 28])\n",
            "Shape of y: torch.Size([64]) torch.int64\n"
          ]
        }
      ]
    },
    {
      "cell_type": "code",
      "source": [
        "device = torch.accelerator.current_accelerator().type if torch.accelerator.is_available() else \"cpu\"\n",
        "print(f\"Using {device} device\")\n",
        "# Checks if any hardware accelerator (GPU or Apple Silicon, etc.) is available.\n",
        "# If yes, it uses it (e.g., \"cuda\" for NVIDIA GPU, \"mps\" for Apple GPU).\n",
        "# If not, it defaults to \"cpu\".\n",
        "\n",
        "# Define model\n",
        "class NeuralNetwork(nn.Module):\n",
        "  # define a class that inherits from nn.Module, which is the base class for all PyTorch models.\n",
        "    def __init__(self):\n",
        "        super().__init__()\n",
        "        self.flatten = nn.Flatten()\n",
        "        # nn.Flatten() converts the 2D image (28×28) into a 1D vector (784 values).\n",
        "        # Shape change: [batch_size, 1, 28, 28] ⟶ [batch_size, 784]\n",
        "        self.linear_relu_stack = nn.Sequential(\n",
        "            nn.Linear(28*28, 512), # input layer\n",
        "            nn.ReLU(),             # activation function\n",
        "            nn.Linear(512, 512),   # hidden layer\n",
        "            nn.ReLU(),             # activation function\n",
        "            nn.Linear(512, 10)     # output layer\n",
        "        )\n",
        "\n",
        "    def forward(self, x):\n",
        "        x = self.flatten(x)\n",
        "        logits = self.linear_relu_stack(x)\n",
        "        return logits\n",
        "\n",
        "model = NeuralNetwork().to(device)\n",
        "print(model)"
      ],
      "metadata": {
        "colab": {
          "base_uri": "https://localhost:8080/"
        },
        "id": "8Ig4eLvDuvp2",
        "outputId": "9619215c-dc05-4b8b-e0d0-c4f20975d2ce"
      },
      "execution_count": 5,
      "outputs": [
        {
          "output_type": "stream",
          "name": "stdout",
          "text": [
            "Using cuda device\n",
            "NeuralNetwork(\n",
            "  (flatten): Flatten(start_dim=1, end_dim=-1)\n",
            "  (linear_relu_stack): Sequential(\n",
            "    (0): Linear(in_features=784, out_features=512, bias=True)\n",
            "    (1): ReLU()\n",
            "    (2): Linear(in_features=512, out_features=512, bias=True)\n",
            "    (3): ReLU()\n",
            "    (4): Linear(in_features=512, out_features=10, bias=True)\n",
            "  )\n",
            ")\n"
          ]
        }
      ]
    },
    {
      "cell_type": "code",
      "source": [
        "loss_fn = nn.CrossEntropyLoss()\n",
        "# A loss function measures how far the model’s predictions are from the correct labels (truth). It guides the training process.\n",
        "optimizer = torch.optim.SGD(model.parameters(), lr=1e-3)\n",
        "# An optimizer updates the model’s weights based on the computed gradients during backpropagation."
      ],
      "metadata": {
        "id": "lAiiTb5Ey1uG"
      },
      "execution_count": 6,
      "outputs": []
    },
    {
      "cell_type": "code",
      "source": [
        "def train(dataloader, model, loss_fn, optimizer):\n",
        "    size = len(dataloader.dataset)\n",
        "    # This gives you the total number of samples in the dataset (not just in one batch).\n",
        "\n",
        "    model.train()\n",
        "    # This sets the model in training mode.\n",
        "      # It activates dropout, batch norm, etc. if used.\n",
        "      # Not needed in inference mode (model.eval() is used for testing/validation).\n",
        "\n",
        "    for batch, (X, y) in enumerate(dataloader):\n",
        "        # batch: Index of the batch (0, 1, 2, ...)\n",
        "        # (X, y): A batch of inputs (X) and targets (y) from the dataloader\n",
        "\n",
        "        # Example shapes:\n",
        "        #   X: [64, 1, 28, 28]\n",
        "        #   y: [64]\n",
        "\n",
        "        X, y = X.to(device), y.to(device)\n",
        "        # This ensures the data is on the same device as the model (CPU or GPU).\n",
        "        # Without this, it may causes an error during training\n",
        "\n",
        "        # Compute prediction error\n",
        "        pred = model(X)\n",
        "        # Feeds the batch of inputs X through the model.\n",
        "        # Returns logits (raw output scores) of shape [batch_size, 10].\n",
        "\n",
        "        loss = loss_fn(pred, y)\n",
        "        # Compares predictions (pred) with actual labels (y)\n",
        "        # Returns the average loss for this batch (a single number).\n",
        "\n",
        "        # Backpropagation\n",
        "        loss.backward()\n",
        "        # Calculates the gradient of the loss w.r.t. each model parameter (using the chain rule).\n",
        "        # These gradients are stored in parameter.grad.\n",
        "\n",
        "        optimizer.step()\n",
        "        # Uses the gradients calculated in loss.backward() to update the model's parameters.\n",
        "\n",
        "        optimizer.zero_grad()\n",
        "        # Clears the previous gradients, which accumulate by default in PyTorch.\n",
        "        # Must do this before the next batch.\n",
        "\n",
        "        if batch % 100 == 0:\n",
        "            loss, current = loss.item(), (batch + 1) * len(X)\n",
        "            print(f\"loss: {loss:>7f}  [{current:>5d}/{size:>5d}]\")"
      ],
      "metadata": {
        "id": "-Ak-xwm7BX7i"
      },
      "execution_count": 7,
      "outputs": []
    },
    {
      "cell_type": "code",
      "source": [
        "def test(dataloader, model, loss_fn):\n",
        "    size = len(dataloader.dataset)\n",
        "    num_batches = len(dataloader)\n",
        "    # size: Total number of samples in the test dataset (e.g., 10,000 for FashionMNIST)\n",
        "    # num_batches: Total number of batches in the test set (e.g., 10,000 / 64 = 157)\n",
        "\n",
        "    model.eval()\n",
        "    # This puts the model in evaluation mode:\n",
        "    #   Disables features like dropout or batch norm updating.\n",
        "    #   Ensures consistent and correct behavior during testing.\n",
        "\n",
        "    test_loss, correct = 0, 0\n",
        "    with torch.no_grad():\n",
        "      # This tells PyTorch not to compute gradients, which:\n",
        "      #   Saves memory\n",
        "      #   Speeds up computations\n",
        "      # Gradients are only needed for training, not testing.\n",
        "\n",
        "        for X, y in dataloader:\n",
        "            X, y = X.to(device), y.to(device)\n",
        "            pred = model(X)\n",
        "            # Moves data to the correct device (CPU/GPU)\n",
        "            # Performs a forward pass with model(X) to get predictions\n",
        "\n",
        "            test_loss += loss_fn(pred, y).item()\n",
        "            # Computes the loss for this batch\n",
        "\n",
        "            correct += (pred.argmax(1) == y).type(torch.float).sum().item()\n",
        "            # pred.argmax(1)\tFinds the index (class) with the highest score for each image\n",
        "            # == y\tCompares predicted labels to true labels\n",
        "            # .type(torch.float)\tConverts the Boolean results (True/False) to floats (1.0 or 0.0)\n",
        "            # .sum().item()\tSums how many were correct in this batch and converts it to float\n",
        "\n",
        "    test_loss /= num_batches\n",
        "    correct /= size\n",
        "    # test_loss: Average loss across all test batches\n",
        "    # correct: Fraction of correct predictions (i.e., accuracy) Accuracy = Number of correct predictions / Total number of predictions\n",
        "\n",
        "    print(f\"Test Error: \\n Accuracy: {(100*correct):>0.1f}%, Avg loss: {test_loss:>8f} \\n\")"
      ],
      "metadata": {
        "id": "lgllIT3r1Ds4"
      },
      "execution_count": 8,
      "outputs": []
    },
    {
      "cell_type": "code",
      "source": [
        "epochs = 5\n",
        "for t in range(epochs):\n",
        "    print(f\"Epoch {t+1}\\n-------------------------------\")\n",
        "    train(train_dataloader, model, loss_fn, optimizer)\n",
        "    test(test_dataloader, model, loss_fn)\n",
        "print(\"Done!\")"
      ],
      "metadata": {
        "colab": {
          "base_uri": "https://localhost:8080/"
        },
        "id": "sxzm-Hsi0LDT",
        "outputId": "df99c0b8-19d5-4f65-abcc-1e64c4010eb7"
      },
      "execution_count": 9,
      "outputs": [
        {
          "output_type": "stream",
          "name": "stdout",
          "text": [
            "Epoch 1\n",
            "-------------------------------\n",
            "loss: 2.312341  [   64/60000]\n",
            "loss: 2.298501  [ 6464/60000]\n",
            "loss: 2.277543  [12864/60000]\n",
            "loss: 2.267805  [19264/60000]\n",
            "loss: 2.243675  [25664/60000]\n",
            "loss: 2.225574  [32064/60000]\n",
            "loss: 2.218122  [38464/60000]\n",
            "loss: 2.192314  [44864/60000]\n",
            "loss: 2.200360  [51264/60000]\n",
            "loss: 2.147817  [57664/60000]\n",
            "Test Error: \n",
            " Accuracy: 47.4%, Avg loss: 2.147647 \n",
            "\n",
            "Epoch 2\n",
            "-------------------------------\n",
            "loss: 2.168075  [   64/60000]\n",
            "loss: 2.156399  [ 6464/60000]\n",
            "loss: 2.092921  [12864/60000]\n",
            "loss: 2.105268  [19264/60000]\n",
            "loss: 2.045977  [25664/60000]\n",
            "loss: 1.999271  [32064/60000]\n",
            "loss: 2.018935  [38464/60000]\n",
            "loss: 1.944988  [44864/60000]\n",
            "loss: 1.961071  [51264/60000]\n",
            "loss: 1.870013  [57664/60000]\n",
            "Test Error: \n",
            " Accuracy: 56.7%, Avg loss: 1.870504 \n",
            "\n",
            "Epoch 3\n",
            "-------------------------------\n",
            "loss: 1.917784  [   64/60000]\n",
            "loss: 1.877927  [ 6464/60000]\n",
            "loss: 1.755903  [12864/60000]\n",
            "loss: 1.795235  [19264/60000]\n",
            "loss: 1.683306  [25664/60000]\n",
            "loss: 1.648238  [32064/60000]\n",
            "loss: 1.667374  [38464/60000]\n",
            "loss: 1.573613  [44864/60000]\n",
            "loss: 1.603057  [51264/60000]\n",
            "loss: 1.489745  [57664/60000]\n",
            "Test Error: \n",
            " Accuracy: 60.3%, Avg loss: 1.509537 \n",
            "\n",
            "Epoch 4\n",
            "-------------------------------\n",
            "loss: 1.584598  [   64/60000]\n",
            "loss: 1.544403  [ 6464/60000]\n",
            "loss: 1.393445  [12864/60000]\n",
            "loss: 1.463878  [19264/60000]\n",
            "loss: 1.343956  [25664/60000]\n",
            "loss: 1.351708  [32064/60000]\n",
            "loss: 1.363136  [38464/60000]\n",
            "loss: 1.295216  [44864/60000]\n",
            "loss: 1.328321  [51264/60000]\n",
            "loss: 1.224606  [57664/60000]\n",
            "Test Error: \n",
            " Accuracy: 63.2%, Avg loss: 1.252193 \n",
            "\n",
            "Epoch 5\n",
            "-------------------------------\n",
            "loss: 1.331829  [   64/60000]\n",
            "loss: 1.313112  [ 6464/60000]\n",
            "loss: 1.146027  [12864/60000]\n",
            "loss: 1.251143  [19264/60000]\n",
            "loss: 1.120137  [25664/60000]\n",
            "loss: 1.157857  [32064/60000]\n",
            "loss: 1.175109  [38464/60000]\n",
            "loss: 1.121282  [44864/60000]\n",
            "loss: 1.157158  [51264/60000]\n",
            "loss: 1.069772  [57664/60000]\n",
            "Test Error: \n",
            " Accuracy: 64.4%, Avg loss: 1.091959 \n",
            "\n",
            "Done!\n"
          ]
        }
      ]
    },
    {
      "cell_type": "code",
      "source": [
        "classes = [\n",
        "    \"T-shirt/top\",\n",
        "    \"Trouser\",\n",
        "    \"Pullover\",\n",
        "    \"Dress\",\n",
        "    \"Coat\",\n",
        "    \"Sandal\",\n",
        "    \"Shirt\",\n",
        "    \"Sneaker\",\n",
        "    \"Bag\",\n",
        "    \"Ankle boot\",\n",
        "]\n",
        "\n",
        "model.eval()\n",
        "x, y = test_data[0][0], test_data[0][1]\n",
        "# test_data[0]: Gets the first image and its label from the dataset.\n",
        "# [0]: The image (x) – a 1 × 28 × 28 tensor.\n",
        "# [1]: The label (y) – an integer like 9.\n",
        "\n",
        "# x: The image\n",
        "# y: The actual label (e.g., 9 = \"Ankle boot\")\n",
        "\n",
        "with torch.no_grad():\n",
        "    x = x.to(device)\n",
        "    pred = model(x)\n",
        "    predicted, actual = classes[pred[0].argmax(0)], classes[y]\n",
        "    print(f'Predicted: \"{predicted}\", Actual: \"{actual}\"')"
      ],
      "metadata": {
        "colab": {
          "base_uri": "https://localhost:8080/"
        },
        "id": "R8ZRhYX30UNX",
        "outputId": "6eda412e-6cec-4fb2-d082-4f366ec71c37"
      },
      "execution_count": 10,
      "outputs": [
        {
          "output_type": "stream",
          "name": "stdout",
          "text": [
            "Predicted: \"Ankle boot\", Actual: \"Ankle boot\"\n"
          ]
        }
      ]
    },
    {
      "cell_type": "markdown",
      "source": [
        "#Tensors\n",
        "\n",
        "Tensors are a specialized data structure that are very similar to arrays and matrices. In PyTorch, we use tensors to encode the inputs and outputs of a model, as well as the model’s parameters."
      ],
      "metadata": {
        "id": "hxnT5Q2UC2ht"
      }
    },
    {
      "cell_type": "markdown",
      "source": [
        "Tensors can be initialized in various ways. Take a look at the following examples:"
      ],
      "metadata": {
        "id": "iyhhxq03GGxG"
      }
    },
    {
      "cell_type": "code",
      "source": [
        "import numpy as np\n",
        "# Directly from data\n",
        "# Tensors can be created directly from data. The data type is automatically inferred.\n",
        "\n",
        "data = [[1, 2],[3, 4]]\n",
        "x_data = torch.tensor(data)\n",
        "\n",
        "print(x_data)\n",
        "print(x_data.shape)\n",
        "print(x_data.ndim)\n",
        "print(x_data.dtype)\n",
        "print(x_data.itemsize)\n",
        "print(x_data.device)\n",
        "# shape: Returns a tuple representing the shape (dimensions) of the array.\n",
        "# ndim: Returns the number of dimensions (axes) of the array.\n",
        "# dtype: Provides the data type of the array elements.\n",
        "# itemsize: Returns the size in bytes of each element\n",
        "# device: Device tensor is stored on.\n",
        "\n",
        "# By default, tensors are created on the CPU. We need to explicitly move tensors to the accelerator using .to method (after checking for accelerator availability). Keep in mind that copying large tensors across devices can be expensive in terms of time and memory!\n",
        "# We move our tensor to the current accelerator if available\n",
        "# if torch.accelerator.is_available():\n",
        "#     tensor = tensor.to(torch.accelerator.current_accelerator())\n",
        "print(\"------------------------------------------\")\n",
        "# From a NumPy array\n",
        "# Tensors can be created from NumPy arrays.\n",
        "\n",
        "np_array = np.array(data)\n",
        "x_np = torch.from_numpy(np_array)\n",
        "print(x_np)\n",
        "\n",
        "print(\"------------------------------------------\")\n",
        "# From another tensor:\n",
        "# The new tensor retains the properties (shape, datatype) of the argument tensor, unless explicitly overridden.\n",
        "\n",
        "x_ones = torch.ones_like(x_data) # retains the properties of x_data\n",
        "print(f\"Ones Tensor: \\n {x_ones} \\n\")\n",
        "\n",
        "x_rand = torch.rand_like(x_data, dtype=torch.float) # overrides the datatype of x_data\n",
        "print(f\"Random Tensor: \\n {x_rand} \\n\")\n",
        "\n",
        "print(\"------------------------------------------\")\n",
        "# With random or constant values:\n",
        "# shape is a tuple of tensor dimensions. In the functions below, it determines the dimensionality of the output tensor.\n",
        "\n",
        "shape = (2,3,)\n",
        "rand_tensor = torch.rand(shape)\n",
        "ones_tensor = torch.ones(shape)\n",
        "zeros_tensor = torch.zeros(shape)\n",
        "\n",
        "print(f\"Random Tensor: \\n {rand_tensor} \\n\")\n",
        "print(f\"Ones Tensor: \\n {ones_tensor} \\n\")\n",
        "print(f\"Zeros Tensor: \\n {zeros_tensor}\")"
      ],
      "metadata": {
        "colab": {
          "base_uri": "https://localhost:8080/"
        },
        "id": "8vED-g_K409o",
        "outputId": "a608b85a-e6ca-4f2e-9e47-6ba944eec102"
      },
      "execution_count": 11,
      "outputs": [
        {
          "output_type": "stream",
          "name": "stdout",
          "text": [
            "tensor([[1, 2],\n",
            "        [3, 4]])\n",
            "torch.Size([2, 2])\n",
            "2\n",
            "torch.int64\n",
            "8\n",
            "cpu\n",
            "------------------------------------------\n",
            "tensor([[1, 2],\n",
            "        [3, 4]])\n",
            "------------------------------------------\n",
            "Ones Tensor: \n",
            " tensor([[1, 1],\n",
            "        [1, 1]]) \n",
            "\n",
            "Random Tensor: \n",
            " tensor([[0.9608, 0.3891],\n",
            "        [0.9872, 0.5223]]) \n",
            "\n",
            "------------------------------------------\n",
            "Random Tensor: \n",
            " tensor([[0.1146, 0.5007, 0.4718],\n",
            "        [0.0398, 0.1173, 0.9475]]) \n",
            "\n",
            "Ones Tensor: \n",
            " tensor([[1., 1., 1.],\n",
            "        [1., 1., 1.]]) \n",
            "\n",
            "Zeros Tensor: \n",
            " tensor([[0., 0., 0.],\n",
            "        [0., 0., 0.]])\n"
          ]
        }
      ]
    },
    {
      "cell_type": "markdown",
      "source": [
        "**Operations on Tensors**\n",
        "\n",
        "Different operations on tensors: https://docs.pytorch.org/docs/stable/torch.html"
      ],
      "metadata": {
        "id": "jg3tQLpwJKgT"
      }
    },
    {
      "cell_type": "code",
      "source": [
        "# Standard numpy-like indexing and slicing:\n",
        "\n",
        "tensor = torch.ones(4, 4)\n",
        "print(f\"First row: {tensor[0]}\")\n",
        "print(f\"First column: {tensor[:, 0]}\")\n",
        "print(f\"Last column: {tensor[..., -1]}\")\n",
        "# tensor[..., -1] is equivalent to tensor[:, -1]\n",
        "tensor[:,1] = 0\n",
        "print(tensor)\n",
        "print(\"------------------------------------------\")\n",
        "\n",
        "# Joining tensors You can use torch.cat to concatenate a sequence of tensors along a given dimension.\n",
        "t1 = torch.cat([tensor, tensor, tensor], dim=1)\n",
        "print(t1)"
      ],
      "metadata": {
        "colab": {
          "base_uri": "https://localhost:8080/"
        },
        "id": "0f-gfNVtC09t",
        "outputId": "d96e3fc7-57f8-4f65-c86d-124822df3eb7"
      },
      "execution_count": 12,
      "outputs": [
        {
          "output_type": "stream",
          "name": "stdout",
          "text": [
            "First row: tensor([1., 1., 1., 1.])\n",
            "First column: tensor([1., 1., 1., 1.])\n",
            "Last column: tensor([1., 1., 1., 1.])\n",
            "tensor([[1., 0., 1., 1.],\n",
            "        [1., 0., 1., 1.],\n",
            "        [1., 0., 1., 1.],\n",
            "        [1., 0., 1., 1.]])\n",
            "------------------------------------------\n",
            "tensor([[1., 0., 1., 1., 1., 0., 1., 1., 1., 0., 1., 1.],\n",
            "        [1., 0., 1., 1., 1., 0., 1., 1., 1., 0., 1., 1.],\n",
            "        [1., 0., 1., 1., 1., 0., 1., 1., 1., 0., 1., 1.],\n",
            "        [1., 0., 1., 1., 1., 0., 1., 1., 1., 0., 1., 1.]])\n"
          ]
        }
      ]
    },
    {
      "cell_type": "markdown",
      "source": [
        "**Arithmetic operations**"
      ],
      "metadata": {
        "id": "fmxmYu79Ps4q"
      }
    },
    {
      "cell_type": "code",
      "source": [
        "# This computes the matrix multiplication between two tensors. y1, y2, y3 will have the same value\n",
        "# ``tensor.T`` returns the transpose of a tensor\n",
        "y1 = tensor @ tensor.T\n",
        "y2 = tensor.matmul(tensor.T)\n",
        "# This performs matrix multiplication:\n",
        "  # @ is the operator version\n",
        "  # matmul() is the function version\n",
        "  # tensor.T returns the transpose of the tensor (swaps rows & columns)\n",
        "\n",
        "y3 = torch.rand_like(y1)\n",
        "torch.matmul(tensor, tensor.T, out=y3)\n",
        "\n",
        "# This computes the element-wise product. z1, z2, z3 will have the same value\n",
        "z1 = tensor * tensor\n",
        "z2 = tensor.mul(tensor)\n",
        "\n",
        "z3 = torch.rand_like(tensor)\n",
        "torch.mul(tensor, tensor, out=z3)"
      ],
      "metadata": {
        "colab": {
          "base_uri": "https://localhost:8080/"
        },
        "id": "-7TMV6kXLBCp",
        "outputId": "144cbef3-98a4-40c7-d494-da4c9e5df124"
      },
      "execution_count": 13,
      "outputs": [
        {
          "output_type": "execute_result",
          "data": {
            "text/plain": [
              "tensor([[1., 0., 1., 1.],\n",
              "        [1., 0., 1., 1.],\n",
              "        [1., 0., 1., 1.],\n",
              "        [1., 0., 1., 1.]])"
            ]
          },
          "metadata": {},
          "execution_count": 13
        }
      ]
    },
    {
      "cell_type": "markdown",
      "source": [
        "**Single-element tensors**\n",
        "\n",
        "If you have a one-element tensor, for example by aggregating all values of a tensor into one value, you can convert it to a Python numerical value using item():"
      ],
      "metadata": {
        "id": "vHjHKvQDSEzC"
      }
    },
    {
      "cell_type": "code",
      "source": [
        "agg = tensor.sum()\n",
        "# This returns a scalar tensor (0-dimensional), like tensor(12.)\n",
        "\n",
        "agg_item = agg.item()\n",
        "# .item() extracts the numerical value from a 1-element tensor.\n",
        "# Converts tensor(12.) → 12.0 (Python float)\n",
        "\n",
        "print(agg_item, type(agg_item))"
      ],
      "metadata": {
        "colab": {
          "base_uri": "https://localhost:8080/"
        },
        "id": "b-Q_panHRs62",
        "outputId": "e1691063-2f41-435a-d825-883cfad47452"
      },
      "execution_count": 14,
      "outputs": [
        {
          "output_type": "stream",
          "name": "stdout",
          "text": [
            "12.0 <class 'float'>\n"
          ]
        }
      ]
    },
    {
      "cell_type": "markdown",
      "source": [
        "**In-place operations**\n",
        "\n",
        "Operations that store the result into the operand are called in-place. They are denoted by a _ suffix. For example: x.copy_(y), x.t_(), will change x.\n",
        "\n",
        "In-place operations save some memory, but can be problematic when computing derivatives because of an immediate loss of history. Hence, their use is discouraged."
      ],
      "metadata": {
        "id": "ixZeKXiuTAK2"
      }
    },
    {
      "cell_type": "code",
      "source": [
        "print(f\"{tensor} \\n\")\n",
        "tensor.add_(5)\n",
        "print(tensor)"
      ],
      "metadata": {
        "colab": {
          "base_uri": "https://localhost:8080/"
        },
        "id": "m0MXFocjSLdY",
        "outputId": "d580f969-f98d-4a7d-a454-e80af96e590b"
      },
      "execution_count": 15,
      "outputs": [
        {
          "output_type": "stream",
          "name": "stdout",
          "text": [
            "tensor([[1., 0., 1., 1.],\n",
            "        [1., 0., 1., 1.],\n",
            "        [1., 0., 1., 1.],\n",
            "        [1., 0., 1., 1.]]) \n",
            "\n",
            "tensor([[6., 5., 6., 6.],\n",
            "        [6., 5., 6., 6.],\n",
            "        [6., 5., 6., 6.],\n",
            "        [6., 5., 6., 6.]])\n"
          ]
        }
      ]
    },
    {
      "cell_type": "markdown",
      "source": [
        "**Bridge with NumPy**\n",
        "\n",
        "Tensors on the CPU and NumPy arrays can share their underlying memory locations, and changing one will change the other."
      ],
      "metadata": {
        "id": "8HVmwZ2aTXGx"
      }
    },
    {
      "cell_type": "code",
      "source": [
        "# Tensor to NumPy array\n",
        "t = torch.ones(5)\n",
        "print(f\"t: {t}\")\n",
        "n = t.numpy()\n",
        "print(f\"n: {n}\")\n",
        "\n",
        "# A change in the tensor reflects in the NumPy array.\n",
        "t.add_(1)\n",
        "print(f\"t: {t}\")\n",
        "print(f\"n: {n}\")\n",
        "\n",
        "print(\"------------------------------------------\")\n",
        "# NumPy array to Tensor\n",
        "n = np.ones(5)\n",
        "t = torch.from_numpy(n)\n",
        "print(f\"t: {t}\")\n",
        "print(f\"n: {n}\")\n",
        "\n",
        "# Changes in the NumPy array reflects in the tensor.\n",
        "np.add(n, 1, out=n)\n",
        "print(f\"t: {t}\")\n",
        "print(f\"n: {n}\")"
      ],
      "metadata": {
        "colab": {
          "base_uri": "https://localhost:8080/"
        },
        "id": "DAeQGGmBTEXu",
        "outputId": "61259b3f-199a-40b8-fe85-94c38bcf5ad9"
      },
      "execution_count": 16,
      "outputs": [
        {
          "output_type": "stream",
          "name": "stdout",
          "text": [
            "t: tensor([1., 1., 1., 1., 1.])\n",
            "n: [1. 1. 1. 1. 1.]\n",
            "t: tensor([2., 2., 2., 2., 2.])\n",
            "n: [2. 2. 2. 2. 2.]\n",
            "------------------------------------------\n",
            "t: tensor([1., 1., 1., 1., 1.], dtype=torch.float64)\n",
            "n: [1. 1. 1. 1. 1.]\n",
            "t: tensor([2., 2., 2., 2., 2.], dtype=torch.float64)\n",
            "n: [2. 2. 2. 2. 2.]\n"
          ]
        }
      ]
    },
    {
      "cell_type": "markdown",
      "source": [
        "#Datasets & DataLoaders\n",
        "\n",
        "Code for processing data samples can get messy and hard to maintain; we ideally want our dataset code to be decoupled from our model training code for better readability and modularity. PyTorch provides two data primitives: torch.utils.data.DataLoader and torch.utils.data.Dataset that allow you to use pre-loaded datasets as well as your own data.\n",
        "\n",
        "Dataset stores the samples and their corresponding labels, and DataLoader wraps an iterable around the Dataset to enable easy access to the samples."
      ],
      "metadata": {
        "id": "7wrbS5mzhLXf"
      }
    },
    {
      "cell_type": "code",
      "source": [
        "# Loading a Dataset\n",
        "# Here is an example of how to load the Fashion-MNIST dataset from TorchVision. Fashion-MNIST is a dataset of Zalando’s article images consisting of 60,000 training examples and 10,000 test examples. Each example comprises a 28×28 grayscale image and an associated label from one of 10 classes.\n",
        "import torch\n",
        "from torch.utils.data import Dataset\n",
        "from torchvision import datasets\n",
        "from torchvision.transforms import ToTensor\n",
        "import matplotlib.pyplot as plt\n",
        "\n",
        "training_data = datasets.FashionMNIST(\n",
        "    root=\"data\",\n",
        "    train=True,\n",
        "    download=True,\n",
        "    transform=ToTensor()\n",
        ")\n",
        "\n",
        "test_data = datasets.FashionMNIST(\n",
        "    root=\"data\",\n",
        "    train=False,\n",
        "    download=True,\n",
        "    transform=ToTensor()\n",
        ")\n",
        "# We load the FashionMNIST Dataset with the following parameters:\n",
        "  # root is the path where the train/test data is stored,\n",
        "  # train specifies training or test dataset,\n",
        "  # download=True downloads the data from the internet if it’s not available at root.\n",
        "  # transform and target_transform specify the feature and label transformations"
      ],
      "metadata": {
        "id": "QHvzXXMVTjqU"
      },
      "execution_count": 21,
      "outputs": []
    },
    {
      "cell_type": "markdown",
      "source": [
        "**Iterating and Visualizing the Dataset**\n",
        "\n",
        "We can index Datasets manually like a list: training_data[index]. We use matplotlib to visualize some samples in our training data."
      ],
      "metadata": {
        "id": "XC62wi7ps9-k"
      }
    },
    {
      "cell_type": "code",
      "source": [
        "labels_map = {\n",
        "    0: \"T-Shirt\",\n",
        "    1: \"Trouser\",\n",
        "    2: \"Pullover\",\n",
        "    3: \"Dress\",\n",
        "    4: \"Coat\",\n",
        "    5: \"Sandal\",\n",
        "    6: \"Shirt\",\n",
        "    7: \"Sneaker\",\n",
        "    8: \"Bag\",\n",
        "    9: \"Ankle Boot\",\n",
        "}\n",
        "figure = plt.figure(figsize=(8, 8))\n",
        "# Creates a new figure canvas (like a blank page).\n",
        "# figsize=(8, 8) sets the figure size in inches.\n",
        "\n",
        "cols, rows = 3, 3\n",
        "# You want to show a 3×3 grid of images = 9 total images\n",
        "\n",
        "for i in range(1, cols * rows + 1):\n",
        "    sample_idx = torch.randint(len(training_data), size=(1,)).item()\n",
        "    # Picks a random index and extracts it as a plain Python int\n",
        "\n",
        "    img, label = training_data[sample_idx]\n",
        "    # img shape: [1, 28, 28]\n",
        "    # label: integer from 0 to 9\n",
        "\n",
        "    figure.add_subplot(rows, cols, i)\n",
        "    # Adds a small subplot at position i in a 3×3 grid.\n",
        "\n",
        "    plt.title(labels_map[label])\n",
        "    plt.axis(\"off\")\n",
        "    plt.imshow(img.squeeze(), cmap=\"gray\")\n",
        "plt.show()"
      ],
      "metadata": {
        "colab": {
          "base_uri": "https://localhost:8080/",
          "height": 675
        },
        "id": "wRwDfzxPjYKj",
        "outputId": "b540a4a4-c969-4ad2-fb57-64a7be31fa88"
      },
      "execution_count": 22,
      "outputs": [
        {
          "output_type": "display_data",
          "data": {
            "text/plain": [
              "<Figure size 800x800 with 9 Axes>"
            ],
            "image/png": "[encoded data removed]"
          },
          "metadata": {}
        }
      ]
    },
    {
      "cell_type": "markdown",
      "source": [
        "**Preparing your data for training with DataLoaders**\n",
        "\n",
        "The Dataset retrieves our dataset’s features and labels one sample at a time. While training a model, we typically want to pass samples in “minibatches”, reshuffle the data at every epoch to reduce model overfitting, and use Python’s multiprocessing to speed up data retrieval.\n",
        "DataLoader is an iterable that abstracts this complexity for us in an easy API."
      ],
      "metadata": {
        "id": "x2nDZusqtT5h"
      }
    },
    {
      "cell_type": "code",
      "source": [
        "from torch.utils.data import DataLoader\n",
        "\n",
        "train_dataloader = DataLoader(training_data, batch_size=64, shuffle=True)\n",
        "test_dataloader = DataLoader(test_data, batch_size=64, shuffle=True)\n",
        "\n",
        "# Iterate through the DataLoader\n",
        "# We have loaded that dataset into the DataLoader and can iterate through the dataset as needed. Each iteration below returns a batch of train_features and train_labels (containing batch_size=64 features and labels respectively). Because we specified shuffle=True, after we iterate over all batches the data is shuffled.\n",
        "# Display image and label.\n",
        "train_features, train_labels = next(iter(train_dataloader))\n",
        "print(f\"Feature batch shape: {train_features.size()}\")\n",
        "print(f\"Labels batch shape: {train_labels.size()}\")\n",
        "img = train_features[0].squeeze()\n",
        "label = train_labels[0]\n",
        "plt.imshow(img, cmap=\"gray\")\n",
        "plt.show()\n",
        "print(f\"Label: {label}\")"
      ],
      "metadata": {
        "colab": {
          "base_uri": "https://localhost:8080/",
          "height": 482
        },
        "id": "cqRLn19ljiru",
        "outputId": "de8b72ca-d5b2-48be-9864-8f3352daca53"
      },
      "execution_count": 25,
      "outputs": [
        {
          "output_type": "stream",
          "name": "stdout",
          "text": [
            "Feature batch shape: torch.Size([64, 1, 28, 28])\n",
            "Labels batch shape: torch.Size([64])\n"
          ]
        },
        {
          "output_type": "display_data",
          "data": {
            "text/plain": [
              "<Figure size 640x480 with 1 Axes>"
            ],
            "image/png": "[encoded data removed]"
          },
          "metadata": {}
        },
        {
          "output_type": "stream",
          "name": "stdout",
          "text": [
            "Label: 0\n"
          ]
        }
      ]
    },
    {
      "cell_type": "markdown",
      "source": [
        "#Transforms\n",
        "Data does not always come in its final processed form that is required for training machine learning algorithms. We use transforms to perform some manipulation of the data and make it suitable for training.\n",
        "\n",
        "All TorchVision datasets have two parameters -transform to modify the features and target_transform to modify the labels - that accept callables containing the transformation logic."
      ],
      "metadata": {
        "id": "LqzL4Q0MtfrM"
      }
    },
    {
      "cell_type": "code",
      "source": [
        "import torch\n",
        "from torchvision import datasets\n",
        "from torchvision.transforms import ToTensor, Lambda\n",
        "\n",
        "ds = datasets.FashionMNIST(\n",
        "    root=\"data\",\n",
        "    train=True,\n",
        "    download=True,\n",
        "    transform=ToTensor(),\n",
        "    target_transform=Lambda(lambda y: torch.zeros(10, dtype=torch.float).scatter_(0, torch.tensor(y), value=1))\n",
        ")\n",
        "\n",
        "# It is loading the FashionMNIST training dataset, and:\n",
        "#   Applying a transformation to images → convert to tensors\n",
        "#   Applying a transformation to labels → convert to one-hot encoded vectors\n",
        "\n",
        "# transform=ToTensor():\n",
        "#   Converts the PIL image (from dataset) into a PyTorch tensor of shape [1, 28, 28] (grayscale image)\n",
        "#   Scales pixel values from [0, 255] to [0.0, 1.0]\n",
        "\n",
        "# target_transform=Lambda(...):\n",
        "#   It is transforming integer labels (e.g., 5) into one-hot encoded vectors like: tensor([0., 0., 0., 0., 0., 1., 0., 0., 0., 0.])\n",
        "\n",
        "print(ds)"
      ],
      "metadata": {
        "colab": {
          "base_uri": "https://localhost:8080/"
        },
        "id": "vu_i25JyqRzU",
        "outputId": "250dc11d-86b9-46bd-b7f4-5ea382e575fa"
      },
      "execution_count": 34,
      "outputs": [
        {
          "output_type": "stream",
          "name": "stdout",
          "text": [
            "Dataset FashionMNIST\n",
            "    Number of datapoints: 60000\n",
            "    Root location: data\n",
            "    Split: Train\n",
            "    StandardTransform\n",
            "Transform: ToTensor()\n",
            "Target transform: Lambda()\n"
          ]
        }
      ]
    },
    {
      "cell_type": "markdown",
      "source": [
        "#Build the Neural Network"
      ],
      "metadata": {
        "id": "gLp0J-R84Er9"
      }
    },
    {
      "cell_type": "code",
      "source": [
        "import os\n",
        "import torch\n",
        "from torch import nn\n",
        "from torch.utils.data import DataLoader\n",
        "from torchvision import datasets, transforms\n",
        "\n",
        "# Get Device for Training\n",
        "device = torch.accelerator.current_accelerator().type if torch.accelerator.is_available() else \"cpu\"\n",
        "print(f\"Using {device} device\")\n",
        "# We want to be able to train our model on an accelerator such as CUDA, MPS, MTIA, or XPU. If the current accelerator is available, we will use it. Otherwise, we use the CPU.\n",
        "\n",
        "# Define the Class\n",
        "class NeuralNetwork(nn.Module):\n",
        "    def __init__(self):\n",
        "        super().__init__()\n",
        "        self.flatten = nn.Flatten()\n",
        "        self.linear_relu_stack = nn.Sequential(\n",
        "            nn.Linear(28*28, 512),\n",
        "            nn.ReLU(),\n",
        "            nn.Linear(512, 512),\n",
        "            nn.ReLU(),\n",
        "            nn.Linear(512, 10),\n",
        "        )\n",
        "\n",
        "    def forward(self, x):\n",
        "        x = self.flatten(x)\n",
        "        logits = self.linear_relu_stack(x)\n",
        "        # logits are the raw output scores for each of the 10 classes.\n",
        "        return logits\n",
        "# We define our neural network by subclassing nn.Module, and initialize the neural network layers in __init__. Every nn.Module subclass implements the operations on input data in the forward method.\n",
        "\n",
        "# We create an instance of NeuralNetwork, and move it to the device, and print its structure.\n",
        "model = NeuralNetwork().to(device)\n",
        "print(model)\n",
        "\n",
        "\n",
        "# nn.ReLU(): Non-linear activations are what create the complex mappings between the model’s inputs and outputs. They are applied after linear transformations to introduce nonlinearity, helping neural networks learn a wide variety of phenomena.\n",
        "\n",
        "# nn.Linear(): The linear layer is a module that applies a linear transformation on the input using its stored weights and biases.\n",
        "\n",
        "# nn.Sequential(): nn.Sequential is an ordered container of modules. The data is passed through all the modules in the same order as defined.\n",
        "\n",
        "# nn.Flatten(): We initialize the nn.Flatten layer to convert each 2D 28x28 image into a contiguous array of 784 pixel values ( the minibatch dimension (at dim=0) is maintained)."
      ],
      "metadata": {
        "colab": {
          "base_uri": "https://localhost:8080/"
        },
        "id": "KsZD8BKq0-fQ",
        "outputId": "2683b0f7-7fc7-4b7c-c902-8deff72fa286"
      },
      "execution_count": 7,
      "outputs": [
        {
          "output_type": "stream",
          "name": "stdout",
          "text": [
            "Using cuda device\n",
            "NeuralNetwork(\n",
            "  (flatten): Flatten(start_dim=1, end_dim=-1)\n",
            "  (linear_relu_stack): Sequential(\n",
            "    (0): Linear(in_features=784, out_features=512, bias=True)\n",
            "    (1): ReLU()\n",
            "    (2): Linear(in_features=512, out_features=512, bias=True)\n",
            "    (3): ReLU()\n",
            "    (4): Linear(in_features=512, out_features=10, bias=True)\n",
            "  )\n",
            ")\n"
          ]
        }
      ]
    },
    {
      "cell_type": "code",
      "source": [
        "# To use the model, we pass it the input data. This executes the model’s forward, along with some background operations.\n",
        "# Do not call model.forward() directly!\n",
        "# Calling the model on the input returns a 2-dimensional tensor with dim=0 corresponding to each output of 10 raw predicted values for each class, and dim=1 corresponding to the individual values of each output. We get the prediction probabilities by passing it through an instance of the nn.Softmax module.\n",
        "X = torch.rand(1, 28, 28, device=device)\n",
        "# Creates a random dummy image with shape [1, 28, 28]\n",
        "# Batch size = 1\n",
        "# Random values in the range [0, 1]\n",
        "\n",
        "logits = model(X)\n",
        "print(logits)\n",
        "# Passes the dummy image through the model\n",
        "# Output: raw scores (logits), shape [1, 10]\n",
        "\n",
        "pred_probab = nn.Softmax(dim=1)(logits)\n",
        "print(pred_probab)\n",
        "# Converts logits into probabilities (between 0 and 1) using softmax\n",
        "# dim=1 → applies softmax across class scores\n",
        "\n",
        "y_pred = pred_probab.argmax(1)\n",
        "# argmax(1) selects the class with the highest probability\n",
        "\n",
        "print(f\"Predicted class: {y_pred}\")\n",
        "\n",
        "# nn.Softmax(dim=1):\n",
        "# The last linear layer of the neural network returns logits - raw values in [-infty, infty] - which are passed to the nn.Softmax module. The logits are scaled to values [0, 1] representing the model’s predicted probabilities for each class. dim parameter indicates the dimension along which the values must sum to 1."
      ],
      "metadata": {
        "colab": {
          "base_uri": "https://localhost:8080/"
        },
        "id": "gYDP1oHcLaPG",
        "outputId": "538f8fda-f9c8-4231-edbe-90160748bae3"
      },
      "execution_count": 8,
      "outputs": [
        {
          "output_type": "stream",
          "name": "stdout",
          "text": [
            "tensor([[-0.0027,  0.0127, -0.0697, -0.0195, -0.0921, -0.0414,  0.0081,  0.0156,\n",
            "          0.0345, -0.0387]], device='cuda:0', grad_fn=<AddmmBackward0>)\n",
            "tensor([[0.1016, 0.1032, 0.0950, 0.0999, 0.0929, 0.0977, 0.1027, 0.1035, 0.1055,\n",
            "         0.0980]], device='cuda:0', grad_fn=<SoftmaxBackward0>)\n",
            "Predicted class: tensor([8], device='cuda:0')\n"
          ]
        }
      ]
    },
    {
      "cell_type": "markdown",
      "source": [
        "**Model Parameters**\n",
        "\n",
        "Many layers inside a neural network are parameterized, i.e. have associated weights and biases that are optimized during training. Subclassing nn.Module automatically tracks all fields defined inside your model object, and makes all parameters accessible using your model’s parameters() or named_parameters() methods.\n",
        "\n",
        "In this example, we iterate over each parameter, and print its size and a preview of its values."
      ],
      "metadata": {
        "id": "X6hJuXHlR9gl"
      }
    },
    {
      "cell_type": "code",
      "source": [
        "print(f\"Model structure: {model}\\n\\n\")\n",
        "\n",
        "for name, param in model.named_parameters():\n",
        "    print(f\"Layer: {name} | Size: {param.size()} | Values : {param[:2]} \\n\")"
      ],
      "metadata": {
        "colab": {
          "base_uri": "https://localhost:8080/"
        },
        "id": "PCDm-jzLMyT1",
        "outputId": "1a2b85ee-af8c-4405-d33c-a68e8b7553c7"
      },
      "execution_count": 9,
      "outputs": [
        {
          "output_type": "stream",
          "name": "stdout",
          "text": [
            "Model structure: NeuralNetwork(\n",
            "  (flatten): Flatten(start_dim=1, end_dim=-1)\n",
            "  (linear_relu_stack): Sequential(\n",
            "    (0): Linear(in_features=784, out_features=512, bias=True)\n",
            "    (1): ReLU()\n",
            "    (2): Linear(in_features=512, out_features=512, bias=True)\n",
            "    (3): ReLU()\n",
            "    (4): Linear(in_features=512, out_features=10, bias=True)\n",
            "  )\n",
            ")\n",
            "\n",
            "\n",
            "Layer: linear_relu_stack.0.weight | Size: torch.Size([512, 784]) | Values : tensor([[ 0.0032,  0.0077,  0.0180,  ...,  0.0109,  0.0246,  0.0221],\n",
            "        [ 0.0107,  0.0129, -0.0016,  ..., -0.0139,  0.0158,  0.0136]],\n",
            "       device='cuda:0', grad_fn=<SliceBackward0>) \n",
            "\n",
            "Layer: linear_relu_stack.0.bias | Size: torch.Size([512]) | Values : tensor([-0.0292,  0.0250], device='cuda:0', grad_fn=<SliceBackward0>) \n",
            "\n",
            "Layer: linear_relu_stack.2.weight | Size: torch.Size([512, 512]) | Values : tensor([[-0.0158, -0.0077, -0.0345,  ...,  0.0321, -0.0181,  0.0031],\n",
            "        [ 0.0108, -0.0298, -0.0267,  ..., -0.0223,  0.0133, -0.0392]],\n",
            "       device='cuda:0', grad_fn=<SliceBackward0>) \n",
            "\n",
            "Layer: linear_relu_stack.2.bias | Size: torch.Size([512]) | Values : tensor([-0.0426, -0.0236], device='cuda:0', grad_fn=<SliceBackward0>) \n",
            "\n",
            "Layer: linear_relu_stack.4.weight | Size: torch.Size([10, 512]) | Values : tensor([[ 0.0005, -0.0234, -0.0142,  ...,  0.0398, -0.0130, -0.0113],\n",
            "        [-0.0218,  0.0281, -0.0116,  ...,  0.0339, -0.0051, -0.0164]],\n",
            "       device='cuda:0', grad_fn=<SliceBackward0>) \n",
            "\n",
            "Layer: linear_relu_stack.4.bias | Size: torch.Size([10]) | Values : tensor([ 0.0127, -0.0354], device='cuda:0', grad_fn=<SliceBackward0>) \n",
            "\n"
          ]
        }
      ]
    },
    {
      "cell_type": "markdown",
      "source": [
        "#Hyperparameters\n",
        "Hyperparameters are adjustable parameters that let you control the model optimization process. Different hyperparameter values can impact model training and convergence rates.\n",
        "\n",
        "We define the following hyperparameters for training:\n",
        "\n",
        "*   Number of Epochs - the number of times to iterate over the dataset\n",
        "\n",
        "*   Batch Size - the number of data samples propagated through the network before the parameters are updated\n",
        "\n",
        "*   Learning Rate - how much to update models parameters at each batch/epoch. Smaller values yield slow learning speed, while large values may result in unpredictable behavior during training.\n",
        "\n",
        "\n"
      ],
      "metadata": {
        "id": "AS4Wt05pjBJL"
      }
    },
    {
      "cell_type": "markdown",
      "source": [
        "#Optimization Loop\n",
        "Once we set our hyperparameters, we can then train and optimize our model with an optimization loop. Each iteration of the optimization loop is called an epoch.\n",
        "\n",
        "Each epoch consists of two main parts:\n",
        "*   The Train Loop - iterate over the training dataset and try to converge to optimal parameters.\n",
        "\n",
        "*   The Validation/Test Loop - iterate over the test dataset to check if model performance is improving."
      ],
      "metadata": {
        "id": "j4xNTiT6kqHa"
      }
    },
    {
      "cell_type": "markdown",
      "source": [
        "#Loss Function\n",
        "When presented with some training data, our untrained network is likely not to give the correct answer. Loss function measures the degree of dissimilarity of obtained result to the target value, and it is the loss function that we want to minimize during training. To calculate the loss we make a prediction using the inputs of our given data sample and compare it against the true data label value.\n",
        "\n",
        "Common loss functions include nn.MSELoss (Mean Square Error) for regression tasks, and nn.NLLLoss (Negative Log Likelihood) for classification. nn.CrossEntropyLoss combines nn.LogSoftmax and nn.NLLLoss."
      ],
      "metadata": {
        "id": "sfKGWydzlLgQ"
      }
    },
    {
      "cell_type": "markdown",
      "source": [
        "#Optimizer\n",
        "Optimization is the process of adjusting model parameters to reduce model error in each training step. Optimization algorithms define how this process is performed (in this example we use Stochastic Gradient Descent). All optimization logic is encapsulated in the optimizer object. Here, we use the SGD optimizer; additionally, there are many different optimizers available in PyTorch such as ADAM and RMSProp, that work better for different kinds of models and data.\n",
        "\n",
        "optimizer = torch.optim.SGD(model.parameters(), lr=learning_rate)\n",
        "\n",
        "Inside the training loop, optimization happens in three steps:\n",
        "*   Call optimizer.zero_grad() to reset the gradients of model parameters. Gradients by default add up; to prevent double-counting, we explicitly zero them at each iteration.\n",
        "\n",
        "*   Backpropagate the prediction loss with a call to loss.backward(). PyTorch deposits the gradients of the loss w.r.t. each parameter.\n",
        "\n",
        "*   Once we have our gradients, we call optimizer.step() to adjust the parameters by the gradients collected in the backward pass."
      ],
      "metadata": {
        "id": "Is7i-ybZlets"
      }
    },
    {
      "cell_type": "code",
      "source": [
        "# Full Implementation\n",
        "def train_loop(dataloader, model, loss_fn, optimizer):\n",
        "    size = len(dataloader.dataset)\n",
        "    # Set the model to training mode - important for batch normalization and dropout layers\n",
        "    # Unnecessary in this situation but added for best practices\n",
        "    model.train()\n",
        "    for batch, (X, y) in enumerate(dataloader):\n",
        "        # Compute prediction and loss\n",
        "        pred = model(X)\n",
        "        loss = loss_fn(pred, y)\n",
        "\n",
        "        # Backpropagation\n",
        "        loss.backward()\n",
        "        optimizer.step()\n",
        "        optimizer.zero_grad()\n",
        "\n",
        "        if batch % 100 == 0:\n",
        "            loss, current = loss.item(), batch * batch_size + len(X)\n",
        "            print(f\"loss: {loss:>7f}  [{current:>5d}/{size:>5d}]\")\n",
        "\n",
        "\n",
        "def test_loop(dataloader, model, loss_fn):\n",
        "    # Set the model to evaluation mode - important for batch normalization and dropout layers\n",
        "    # Unnecessary in this situation but added for best practices\n",
        "    model.eval()\n",
        "    size = len(dataloader.dataset)\n",
        "    num_batches = len(dataloader)\n",
        "    test_loss, correct = 0, 0\n",
        "\n",
        "    # Evaluating the model with torch.no_grad() ensures that no gradients are computed during test mode\n",
        "    # also serves to reduce unnecessary gradient computations and memory usage for tensors with requires_grad=True\n",
        "    with torch.no_grad():\n",
        "        for X, y in dataloader:\n",
        "            pred = model(X)\n",
        "            test_loss += loss_fn(pred, y).item()\n",
        "            correct += (pred.argmax(1) == y).type(torch.float).sum().item()\n",
        "\n",
        "    test_loss /= num_batches\n",
        "    correct /= size\n",
        "    print(f\"Test Error: \\n Accuracy: {(100*correct):>0.1f}%, Avg loss: {test_loss:>8f} \\n\")"
      ],
      "metadata": {
        "id": "rLRhwvS-SE6G"
      },
      "execution_count": 16,
      "outputs": []
    },
    {
      "cell_type": "code",
      "source": [
        "import torch\n",
        "from torch import nn\n",
        "from torch.utils.data import DataLoader\n",
        "from torchvision import datasets\n",
        "from torchvision.transforms import ToTensor\n",
        "\n",
        "training_data = datasets.FashionMNIST(\n",
        "    root=\"data\",\n",
        "    train=True,\n",
        "    download=True,\n",
        "    transform=ToTensor()\n",
        ")\n",
        "\n",
        "test_data = datasets.FashionMNIST(\n",
        "    root=\"data\",\n",
        "    train=False,\n",
        "    download=True,\n",
        "    transform=ToTensor()\n",
        ")\n",
        "\n",
        "train_dataloader = DataLoader(training_data, batch_size=64)\n",
        "test_dataloader = DataLoader(test_data, batch_size=64)\n",
        "\n",
        "class NeuralNetwork(nn.Module):\n",
        "    def __init__(self):\n",
        "        super().__init__()\n",
        "        self.flatten = nn.Flatten()\n",
        "        self.linear_relu_stack = nn.Sequential(\n",
        "            nn.Linear(28*28, 512),\n",
        "            nn.ReLU(),\n",
        "            nn.Linear(512, 512),\n",
        "            nn.ReLU(),\n",
        "            nn.Linear(512, 10),\n",
        "        )\n",
        "\n",
        "    def forward(self, x):\n",
        "        x = self.flatten(x)\n",
        "        logits = self.linear_relu_stack(x)\n",
        "        return logits\n",
        "\n",
        "model = NeuralNetwork()"
      ],
      "metadata": {
        "id": "bwI-T2AwnfCk"
      },
      "execution_count": 17,
      "outputs": []
    },
    {
      "cell_type": "code",
      "source": [
        "learning_rate = 1e-3\n",
        "batch_size = 64\n",
        "epochs = 5\n",
        "\n",
        "loss_fn = nn.CrossEntropyLoss()\n",
        "optimizer = torch.optim.SGD(model.parameters(), lr=learning_rate)\n",
        "\n",
        "epochs = 10\n",
        "for t in range(epochs):\n",
        "    print(f\"Epoch {t+1}\\n-------------------------------\")\n",
        "    train_loop(train_dataloader, model, loss_fn, optimizer)\n",
        "    test_loop(test_dataloader, model, loss_fn)\n",
        "print(\"Done!\")"
      ],
      "metadata": {
        "colab": {
          "base_uri": "https://localhost:8080/"
        },
        "id": "Nn84YvP6mEeQ",
        "outputId": "624055ad-97ae-4092-a0a8-0f9073125fbf"
      },
      "execution_count": 18,
      "outputs": [
        {
          "output_type": "stream",
          "name": "stdout",
          "text": [
            "Epoch 1\n",
            "-------------------------------\n",
            "loss: 2.295093  [   64/60000]\n",
            "loss: 2.290995  [ 6464/60000]\n",
            "loss: 2.270504  [12864/60000]\n",
            "loss: 2.265166  [19264/60000]\n",
            "loss: 2.252657  [25664/60000]\n",
            "loss: 2.223448  [32064/60000]\n",
            "loss: 2.224851  [38464/60000]\n",
            "loss: 2.195570  [44864/60000]\n",
            "loss: 2.189180  [51264/60000]\n",
            "loss: 2.169596  [57664/60000]\n",
            "Test Error: \n",
            " Accuracy: 46.4%, Avg loss: 2.157479 \n",
            "\n",
            "Epoch 2\n",
            "-------------------------------\n",
            "loss: 2.156834  [   64/60000]\n",
            "loss: 2.160539  [ 6464/60000]\n",
            "loss: 2.101710  [12864/60000]\n",
            "loss: 2.122900  [19264/60000]\n",
            "loss: 2.077777  [25664/60000]\n",
            "loss: 2.014958  [32064/60000]\n",
            "loss: 2.043661  [38464/60000]\n",
            "loss: 1.965945  [44864/60000]\n",
            "loss: 1.967569  [51264/60000]\n",
            "loss: 1.916903  [57664/60000]\n",
            "Test Error: \n",
            " Accuracy: 59.0%, Avg loss: 1.903975 \n",
            "\n",
            "Epoch 3\n",
            "-------------------------------\n",
            "loss: 1.922437  [   64/60000]\n",
            "loss: 1.911190  [ 6464/60000]\n",
            "loss: 1.788479  [12864/60000]\n",
            "loss: 1.836766  [19264/60000]\n",
            "loss: 1.736729  [25664/60000]\n",
            "loss: 1.673482  [32064/60000]\n",
            "loss: 1.703846  [38464/60000]\n",
            "loss: 1.594940  [44864/60000]\n",
            "loss: 1.619997  [51264/60000]\n",
            "loss: 1.534633  [57664/60000]\n",
            "Test Error: \n",
            " Accuracy: 61.9%, Avg loss: 1.537095 \n",
            "\n",
            "Epoch 4\n",
            "-------------------------------\n",
            "loss: 1.590402  [   64/60000]\n",
            "loss: 1.571215  [ 6464/60000]\n",
            "loss: 1.410580  [12864/60000]\n",
            "loss: 1.490591  [19264/60000]\n",
            "loss: 1.378756  [25664/60000]\n",
            "loss: 1.358435  [32064/60000]\n",
            "loss: 1.388192  [38464/60000]\n",
            "loss: 1.295186  [44864/60000]\n",
            "loss: 1.333463  [51264/60000]\n",
            "loss: 1.253047  [57664/60000]\n",
            "Test Error: \n",
            " Accuracy: 63.7%, Avg loss: 1.264122 \n",
            "\n",
            "Epoch 5\n",
            "-------------------------------\n",
            "loss: 1.331449  [   64/60000]\n",
            "loss: 1.326947  [ 6464/60000]\n",
            "loss: 1.152669  [12864/60000]\n",
            "loss: 1.261509  [19264/60000]\n",
            "loss: 1.145302  [25664/60000]\n",
            "loss: 1.157226  [32064/60000]\n",
            "loss: 1.196159  [38464/60000]\n",
            "loss: 1.112566  [44864/60000]\n",
            "loss: 1.153074  [51264/60000]\n",
            "loss: 1.090152  [57664/60000]\n",
            "Test Error: \n",
            " Accuracy: 64.8%, Avg loss: 1.095981 \n",
            "\n",
            "Epoch 6\n",
            "-------------------------------\n",
            "loss: 1.159422  [   64/60000]\n",
            "loss: 1.173850  [ 6464/60000]\n",
            "loss: 0.984508  [12864/60000]\n",
            "loss: 1.117857  [19264/60000]\n",
            "loss: 1.002227  [25664/60000]\n",
            "loss: 1.022498  [32064/60000]\n",
            "loss: 1.075619  [38464/60000]\n",
            "loss: 0.996077  [44864/60000]\n",
            "loss: 1.035914  [51264/60000]\n",
            "loss: 0.985889  [57664/60000]\n",
            "Test Error: \n",
            " Accuracy: 66.0%, Avg loss: 0.986929 \n",
            "\n",
            "Epoch 7\n",
            "-------------------------------\n",
            "loss: 1.040117  [   64/60000]\n",
            "loss: 1.073753  [ 6464/60000]\n",
            "loss: 0.869216  [12864/60000]\n",
            "loss: 1.021387  [19264/60000]\n",
            "loss: 0.912255  [25664/60000]\n",
            "loss: 0.926676  [32064/60000]\n",
            "loss: 0.995078  [38464/60000]\n",
            "loss: 0.919554  [44864/60000]\n",
            "loss: 0.955496  [51264/60000]\n",
            "loss: 0.914869  [57664/60000]\n",
            "Test Error: \n",
            " Accuracy: 67.2%, Avg loss: 0.912503 \n",
            "\n",
            "Epoch 8\n",
            "-------------------------------\n",
            "loss: 0.952700  [   64/60000]\n",
            "loss: 1.003907  [ 6464/60000]\n",
            "loss: 0.786625  [12864/60000]\n",
            "loss: 0.953519  [19264/60000]\n",
            "loss: 0.852251  [25664/60000]\n",
            "loss: 0.856234  [32064/60000]\n",
            "loss: 0.937543  [38464/60000]\n",
            "loss: 0.868368  [44864/60000]\n",
            "loss: 0.898066  [51264/60000]\n",
            "loss: 0.863610  [57664/60000]\n",
            "Test Error: \n",
            " Accuracy: 68.3%, Avg loss: 0.859206 \n",
            "\n",
            "Epoch 9\n",
            "-------------------------------\n",
            "loss: 0.885961  [   64/60000]\n",
            "loss: 0.951717  [ 6464/60000]\n",
            "loss: 0.725313  [12864/60000]\n",
            "loss: 0.903765  [19264/60000]\n",
            "loss: 0.809595  [25664/60000]\n",
            "loss: 0.803657  [32064/60000]\n",
            "loss: 0.894198  [38464/60000]\n",
            "loss: 0.833053  [44864/60000]\n",
            "loss: 0.855819  [51264/60000]\n",
            "loss: 0.824624  [57664/60000]\n",
            "Test Error: \n",
            " Accuracy: 69.6%, Avg loss: 0.819194 \n",
            "\n",
            "Epoch 10\n",
            "-------------------------------\n",
            "loss: 0.833285  [   64/60000]\n",
            "loss: 0.909993  [ 6464/60000]\n",
            "loss: 0.678137  [12864/60000]\n",
            "loss: 0.865792  [19264/60000]\n",
            "loss: 0.777273  [25664/60000]\n",
            "loss: 0.763433  [32064/60000]\n",
            "loss: 0.859503  [38464/60000]\n",
            "loss: 0.807431  [44864/60000]\n",
            "loss: 0.823007  [51264/60000]\n",
            "loss: 0.793719  [57664/60000]\n",
            "Test Error: \n",
            " Accuracy: 70.8%, Avg loss: 0.787673 \n",
            "\n",
            "Done!\n"
          ]
        }
      ]
    },
    {
      "cell_type": "code",
      "source": [],
      "metadata": {
        "id": "UJFgqP6jmGfw"
      },
      "execution_count": null,
      "outputs": []
    }
  ]
}