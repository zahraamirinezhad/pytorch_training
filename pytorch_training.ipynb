{
  "nbformat": 4,
  "nbformat_minor": 0,
  "metadata": {
    "colab": {
      "provenance": [],
      "gpuType": "T4"
    },
    "kernelspec": {
      "name": "python3",
      "display_name": "Python 3"
    },
    "language_info": {
      "name": "python"
    },
    "accelerator": "GPU"
  },
  "cells": [
    {
      "cell_type": "code",
      "execution_count": 1,
      "metadata": {
        "id": "16QKE5QIfO61"
      },
      "outputs": [],
      "source": [
        "import torch\n",
        "from torch import nn\n",
        "from torch.utils.data import DataLoader\n",
        "from torchvision import datasets\n",
        "from torchvision.transforms import ToTensor"
      ]
    },
    {
      "cell_type": "code",
      "source": [
        "# Download training data from open datasets.\n",
        "training_data = datasets.FashionMNIST(\n",
        "    root=\"data\",\n",
        "    train=True,\n",
        "    download=True,\n",
        "    transform=ToTensor(),\n",
        ")\n",
        "\n",
        "# Download test data from open datasets.\n",
        "test_data = datasets.FashionMNIST(\n",
        "    root=\"data\",\n",
        "    train=False,\n",
        "    download=True,\n",
        "    transform=ToTensor(),\n",
        ")\n",
        "\n",
        "# root=\"data\"\t=> The directory where the dataset will be stored. If \"data\" doesn’t exist, it will be created.\n",
        "# train=True =>\tThis tells PyTorch to load the training set (60,000 images).\n",
        "# download=True =>\tIf the dataset is not already present, download it from the internet.\n",
        "# transform=ToTensor() =>\tApply a transformation that converts each image (PIL format) into a PyTorch tensor and normalizes pixel values to [0.0, 1.0]."
      ],
      "metadata": {
        "colab": {
          "base_uri": "https://localhost:8080/"
        },
        "id": "zgPV4pdpj72h",
        "outputId": "5dcee7af-6790-4888-c8dd-2cca784ce4f6"
      },
      "execution_count": 2,
      "outputs": [
        {
          "output_type": "stream",
          "name": "stderr",
          "text": [
            "100%|██████████| 26.4M/26.4M [00:02<00:00, 10.2MB/s]\n",
            "100%|██████████| 29.5k/29.5k [00:00<00:00, 170kB/s]\n",
            "100%|██████████| 4.42M/4.42M [00:01<00:00, 3.21MB/s]\n",
            "100%|██████████| 5.15k/5.15k [00:00<00:00, 10.7MB/s]\n"
          ]
        }
      ]
    },
    {
      "cell_type": "code",
      "source": [
        "batch_size = 64\n",
        "# This sets the number of samples per batch.\n",
        "\n",
        "# Create data loaders.\n",
        "train_dataloader = DataLoader(training_data, batch_size=batch_size)\n",
        "test_dataloader = DataLoader(test_data, batch_size=batch_size)\n",
        "# This wraps the training_data (which is a FashionMNIST dataset) in a DataLoader.\n",
        "# What DataLoader does:\n",
        "  # Batches the data into size batch_size\n",
        "  # Allows iterating over the dataset using a for loop\n",
        "  # Optionally shuffles or loads data in parallel (more on this later)\n",
        "\n",
        "for X, y in test_dataloader:\n",
        "    print(f\"Shape of X [N, C, H, W]: {X.shape}\")\n",
        "    print(f\"Shape of y: {y.shape} {y.dtype}\")\n",
        "    break\n",
        "\n",
        "# output [64, 1, 28, 28]: Each batch contains 64 grayscale images (1 channel, 28x28 pixels) and their 64 labels."
      ],
      "metadata": {
        "id": "HcuQto-uoeiC",
        "colab": {
          "base_uri": "https://localhost:8080/"
        },
        "outputId": "e44c36c0-0d81-4a47-b59b-8813ada15c35"
      },
      "execution_count": 3,
      "outputs": [
        {
          "output_type": "stream",
          "name": "stdout",
          "text": [
            "Shape of X [N, C, H, W]: torch.Size([64, 1, 28, 28])\n",
            "Shape of y: torch.Size([64]) torch.int64\n"
          ]
        }
      ]
    },
    {
      "cell_type": "code",
      "source": [
        "device = torch.accelerator.current_accelerator().type if torch.accelerator.is_available() else \"cpu\"\n",
        "print(f\"Using {device} device\")\n",
        "# Checks if any hardware accelerator (GPU or Apple Silicon, etc.) is available.\n",
        "# If yes, it uses it (e.g., \"cuda\" for NVIDIA GPU, \"mps\" for Apple GPU).\n",
        "# If not, it defaults to \"cpu\".\n",
        "\n",
        "# Define model\n",
        "class NeuralNetwork(nn.Module):\n",
        "  # define a class that inherits from nn.Module, which is the base class for all PyTorch models.\n",
        "    def __init__(self):\n",
        "        super().__init__()\n",
        "        self.flatten = nn.Flatten()\n",
        "        # nn.Flatten() converts the 2D image (28×28) into a 1D vector (784 values).\n",
        "        # Shape change: [batch_size, 1, 28, 28] ⟶ [batch_size, 784]\n",
        "        self.linear_relu_stack = nn.Sequential(\n",
        "            nn.Linear(28*28, 512),\n",
        "            nn.ReLU(),\n",
        "            nn.Linear(512, 512),\n",
        "            nn.ReLU(),\n",
        "            nn.Linear(512, 10)\n",
        "        )\n",
        "\n",
        "    def forward(self, x):\n",
        "        x = self.flatten(x)\n",
        "        logits = self.linear_relu_stack(x)\n",
        "        return logits\n",
        "\n",
        "model = NeuralNetwork().to(device)\n",
        "print(model)"
      ],
      "metadata": {
        "colab": {
          "base_uri": "https://localhost:8080/"
        },
        "id": "8Ig4eLvDuvp2",
        "outputId": "ec6768eb-8694-4f61-9070-5d7915730226"
      },
      "execution_count": 4,
      "outputs": [
        {
          "output_type": "stream",
          "name": "stdout",
          "text": [
            "Using cuda device\n",
            "NeuralNetwork(\n",
            "  (flatten): Flatten(start_dim=1, end_dim=-1)\n",
            "  (linear_relu_stack): Sequential(\n",
            "    (0): Linear(in_features=784, out_features=512, bias=True)\n",
            "    (1): ReLU()\n",
            "    (2): Linear(in_features=512, out_features=512, bias=True)\n",
            "    (3): ReLU()\n",
            "    (4): Linear(in_features=512, out_features=10, bias=True)\n",
            "  )\n",
            ")\n"
          ]
        }
      ]
    },
    {
      "cell_type": "code",
      "source": [
        "loss_fn = nn.CrossEntropyLoss()\n",
        "# A loss function measures how far the model’s predictions are from the correct labels (truth). It guides the training process.\n",
        "optimizer = torch.optim.SGD(model.parameters(), lr=1e-3)\n",
        "# An optimizer updates the model’s weights based on the computed gradients during backpropagation."
      ],
      "metadata": {
        "id": "lAiiTb5Ey1uG"
      },
      "execution_count": 5,
      "outputs": []
    },
    {
      "cell_type": "code",
      "source": [
        "def train(dataloader, model, loss_fn, optimizer):\n",
        "    size = len(dataloader.dataset)\n",
        "    # This gives you the total number of samples in the dataset (not just in one batch).\n",
        "\n",
        "    model.train()\n",
        "    # This sets the model in training mode.\n",
        "      # It activates dropout, batch norm, etc. if used.\n",
        "      # Not needed in inference mode (model.eval() is used for testing/validation).\n",
        "\n",
        "    for batch, (X, y) in enumerate(dataloader):\n",
        "        # batch: Index of the batch (0, 1, 2, ...)\n",
        "        # (X, y): A batch of inputs (X) and targets (y) from the dataloader\n",
        "\n",
        "        # Example shapes:\n",
        "        #   X: [64, 1, 28, 28]\n",
        "        #   y: [64]\n",
        "\n",
        "        X, y = X.to(device), y.to(device)\n",
        "\n",
        "        # Compute prediction error\n",
        "        pred = model(X)\n",
        "        # Feeds the batch of inputs X through the model.\n",
        "        # Returns logits (raw output scores) of shape [batch_size, 10].\n",
        "\n",
        "        loss = loss_fn(pred, y)\n",
        "        # Compares predictions (pred) with actual labels (y)\n",
        "        # Returns the average loss for this batch (a single number).\n",
        "\n",
        "        # Backpropagation\n",
        "        loss.backward()\n",
        "        # Calculates the gradient of the loss w.r.t. each model parameter (using the chain rule).\n",
        "        # These gradients are stored in parameter.grad.\n",
        "\n",
        "        optimizer.step()\n",
        "        # Uses the gradients calculated in loss.backward() to update the model's parameters.\n",
        "\n",
        "        optimizer.zero_grad()\n",
        "        # Clears the previous gradients, which accumulate by default in PyTorch.\n",
        "        # Must do this before the next batch.\n",
        "\n",
        "        if batch % 100 == 0:\n",
        "            loss, current = loss.item(), (batch + 1) * len(X)\n",
        "            print(f\"loss: {loss:>7f}  [{current:>5d}/{size:>5d}]\")"
      ],
      "metadata": {
        "id": "-Ak-xwm7BX7i"
      },
      "execution_count": 6,
      "outputs": []
    },
    {
      "cell_type": "code",
      "source": [],
      "metadata": {
        "id": "lgllIT3r1Ds4"
      },
      "execution_count": null,
      "outputs": []
    }
  ]
}